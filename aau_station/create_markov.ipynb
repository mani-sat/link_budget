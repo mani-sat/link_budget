{
 "cells": [
  {
   "cell_type": "code",
   "execution_count": 1,
   "id": "21f3da02",
   "metadata": {},
   "outputs": [],
   "source": [
    "import json\n",
    "import abc\n",
    "import matplotlib.pyplot as plt\n",
    "import numpy as np\n",
    "import requests\n",
    "from datetime import datetime, timedelta\n",
    "from pytz import UTC\n",
    "import pickle"
   ]
  },
  {
   "cell_type": "code",
   "execution_count": 2,
   "id": "7347b47b",
   "metadata": {},
   "outputs": [],
   "source": [
    "apikeys = {'metObs': \"\"}"
   ]
  },
  {
   "cell_type": "code",
   "execution_count": 3,
   "id": "35a7eb09",
   "metadata": {},
   "outputs": [],
   "source": [
    "class weather_int(abc.ABC):\n",
    "    @abc.abstractmethod\n",
    "    def __init__(self, starttime: datetime, endtime: datetime) -> None:\n",
    "        self._starttime = starttime\n",
    "        self._endtime = endtime\n",
    "\n",
    "    @property\n",
    "    def endtime(self):\n",
    "        return self._endtime.astimezone(UTC)\n",
    "    \n",
    "    @endtime.setter\n",
    "    def endtime(self, date: datetime):\n",
    "        self._endtime = date\n",
    "\n",
    "    @property\n",
    "    def starttime(self):\n",
    "        return self._starttime.astimezone(UTC)\n",
    "    \n",
    "    @starttime.setter\n",
    "    def starttime(self, date: datetime):\n",
    "        self._starttime = date\n",
    "\n",
    "    @abc.abstractmethod\n",
    "    def output_csv(self, data, print_header = True, filename = \"./weather.csv\" ):\n",
    "        pass\n",
    "\n",
    "    @abc.abstractmethod\n",
    "    def extract_weather(self):\n",
    "        pass\n",
    "\n",
    "\n",
    "\n",
    "\n",
    "class metObs(weather_int):\n",
    "    _apikey = \"api-key=\" + apikeys[\"metObs\"]\n",
    "    _baselink = \"https://dmigw.govcloud.dk/v2/metObs/collections/observation/items/?\"\n",
    "    def __init__(self, starttime: datetime, endtime: datetime, station = 6030) -> None:\n",
    "        super().__init__(starttime, endtime)\n",
    "        self._station = station  # Default Aalborg\n",
    "        # Set parameter config\n",
    "        self._parameter_id = {\n",
    "            \"humidity\":[True, 10, \"%\"],\n",
    "            \"precip_dur_past10min\":[True, 10, \"kg/m²\"],\n",
    "            \"precip_past10min\":[True, 10, \"min\"],\n",
    "            \"precip_past1min\":[True, 10, \"min\"],\n",
    "            \"pressure\":[True, 10, \"hPa\"],\n",
    "            \"pressure_at_sea\":[False, 10, \"hPa\"],\n",
    "            \"temp_dew\":[True, 10, \"degC\"],\n",
    "            \"temp_dry\":[True, 10, \"degC\"],\n",
    "            \"temp_grass\":[False, 10, \"degC\"],\n",
    "            \"visib_mean_last10min\":[False, 10, \"m\"],\n",
    "            \"visibility\":[False, 10, \"m\"],\n",
    "            \"weather\":[False, 10, \"Code\"],\n",
    "            \"wind_dir\":[False, 10, \"degree\"],\n",
    "            \"wind_max\":[False, 10, \"m/s\"],\n",
    "            \"wind_min\":[False, 10, \"m/s\"],\n",
    "            \"wind_speed\":[False, 10, \"m/s\"],\n",
    "            \"precip_dur_past1h\":[False, 60, \"min\"],\n",
    "            \"precip_past1h\":[False, 60, \"kg/m²\"],\n",
    "            \"temp_max_past1h\":[False, 60, \"degC\"],\n",
    "            \"temp_mean_past1h\":[False,60, \"degC\"],\n",
    "            \"temp_min_past1h\":[False, 60, \"degC\"],\n",
    "            \"humidity_past1h\":[False, 60, \"%\"],\n",
    "            \"temp_grass_max_past1h\":[False,60,\"degC\"],\n",
    "            \"temp_grass_mean_past1h\":[False,60,\"degC\"],\n",
    "            \"temp_grass_min_past1h\":[False,60,\"degC\"],\n",
    "            \"wind_dir_past1h\":[False,60,\"degree\"],\n",
    "            \"wind_gust_always_past1h\":[False,60,\"m/s\"],\n",
    "            \"wind_max_per10min_past1h\":[False,60,\"m/s\"],\n",
    "            \"wind_min_past1h\":[False,60,\"m/s\"],\n",
    "            \"wind_speed_past1h\":[False,60,\"m/s\"],\n",
    "            }\n",
    "\n",
    "    # Dataclass for processed JSON Query.    \n",
    "    class metObsSample:\n",
    "        def __init__(self, sample) -> None:\n",
    "            properties = sample[\"properties\"]\n",
    "            try:\n",
    "                self.coord = sample[\"geometry\"][\"coordinates\"]\n",
    "            except:\n",
    "                self.coord = None\n",
    "            self.observedTime = datetime.strptime(properties[\"observed\"], \"%Y-%m-%dT%H:%M:%S%z\")\n",
    "            self.parameterId = properties[\"parameterId\"]\n",
    "            self.value = properties[\"value\"]\n",
    "            pass \n",
    "    \n",
    "    @property\n",
    "    def station(self):\n",
    "        if self._station / 10000 < 1:\n",
    "            return \"0\" + str(self._station)\n",
    "        else:\n",
    "            return str(self.station)\n",
    "    \n",
    "    @station.setter\n",
    "    def station(self, val:int):\n",
    "        self._station = val\n",
    "\n",
    "    @property\n",
    "    def query_date(self):\n",
    "        format_string = \"%Y-%m-%dT%H:%M:%SZ\"\n",
    "        starttime = datetime.strftime(self.starttime - timedelta(minutes=self.starttime.minute, seconds=self.starttime.second), format_string)\n",
    "        endtime = datetime.strftime(self.endtime - timedelta(minutes=self.endtime.minute, seconds=self.endtime.second), format_string)\n",
    "        return f\"{starttime}/{endtime}\"\n",
    "\n",
    "    @property\n",
    "    def parameters(self):\n",
    "        keys = list(self._parameter_id.keys())\n",
    "        params = list(key for key in keys if self._parameter_id[key][0] == True)\n",
    "        return params\n",
    "    @parameters.setter\n",
    "    def parameters(self, parameter): \n",
    "        self._parameter_id[parameter][0] = not self._parameter_id[parameter][0] \n",
    "        return\n",
    "\n",
    "    # Request a parameter from DMI API.\n",
    "    def _extract_parameter(self, parameter: str):\n",
    "        count = int((self.endtime - self.starttime).total_seconds() // (self._parameter_id[parameter][1]*60))\n",
    "        query = self._baselink + self._apikey + f\"&stationId={self.station}&parameterId={parameter}&datetime={self.query_date}&limit={str(count+500)}\"\n",
    "        r = requests.request(\"GET\", query)\n",
    "        x = [self.metObsSample(index) for index in json.loads(r.content)[\"features\"]]\n",
    "        return x\n",
    "    \n",
    "    #Extract All active paramters from DMI.\n",
    "    def extract_weather(self, sorttime = False):\n",
    "        output = {}\n",
    "        for param in self.parameters:\n",
    "            tmp = self._extract_parameter(param)\n",
    "            if len(tmp) == 0:\n",
    "                    self.parameters = param # Remove from parameter list\n",
    "                    continue\n",
    "            if sorttime:\n",
    "                for data in tmp:\n",
    "                    if data.observedTime not in output:\n",
    "                        output[data.observedTime] = {param:data.value}\n",
    "                    else:\n",
    "                        output[data.observedTime][param] = data.value\n",
    "            else:\n",
    "                output[param] = tmp\n",
    "        if sorttime: output =  {date:output[date] for date in sorted(output)}\n",
    "        return output\n",
    "    \n",
    "    # Format as CSV, and print to file \n",
    "    def output_csv(self, data, print_header=True, filename=\"./weather.csv\"):\n",
    "        def generate_line(line):\n",
    "            output = line[0]\n",
    "            for i in line[1:]:\n",
    "                output = output + \",\" + str(i)\n",
    "            return output\n",
    "        format_str = \"%Y-%m-%dT%H:%M:%SZ\"\n",
    "        params = self.parameters\n",
    "        header1 = generate_line([\"Time\"] + params)\n",
    "        header2 = generate_line([\"UTC\"] + list(self._parameter_id[x][2] for x in params))    \n",
    "        with open(filename, 'w') as f:\n",
    "            if print_header:\n",
    "                f.write(header1 + \"\\n\")\n",
    "                f.write(header2 + \"\\n\")\n",
    "            for item in data:\n",
    "                line = [datetime.strftime(item, format_str), *(0 for _ in range(len(params)))] \n",
    "                for i, param in enumerate(params):\n",
    "                    if param in data[item]:\n",
    "                        line[i+1] = data[item][param]\n",
    "                    else:\n",
    "                        line[i+1] = \"NaN\"\n",
    "                f.write(generate_line(line) + \"\\n\")\n",
    "        return\n",
    "    \n",
    "\n",
    "\n",
    "\n",
    "\n",
    "\n"
   ]
  },
  {
   "cell_type": "code",
   "execution_count": 4,
   "id": "6bdd4e49",
   "metadata": {},
   "outputs": [
    {
     "name": "stdout",
     "output_type": "stream",
     "text": [
      "t: 2016-01-01 00:00:00+00:00, 2014-01-01 00:10:00+00:00\n",
      "10m: 1388535000.0, 1451606400.0\n",
      "1m: 1423023720.0, 1451571000.0\n",
      "t: 2018-01-01 00:00:00+00:00, 2016-01-01 00:10:00+00:00\n",
      "10m: 1451607000.0, 1514764800.0\n",
      "1m: 1451641320.0, 1514733600.0\n",
      "t: 2020-01-01 00:00:00+00:00, 2018-01-01 00:10:00+00:00\n",
      "10m: 1514765400.0, 1577836800.0\n",
      "1m: 1514780520.0, 1577727000.0\n",
      "t: 2022-01-01 00:00:00+00:00, 2020-01-01 00:10:00+00:00\n",
      "10m: 1577837400.0, 1640995200.0\n",
      "1m: 1577867520.0, 1640946000.0\n",
      "t: 2024-01-01 00:00:00+00:00, 2022-01-01 00:10:00+00:00\n",
      "10m: 1640995800.0, 1704067200.0\n",
      "1m: 1641045720.0, 1704066000.0\n",
      "t: 2025-01-01 00:00:00+00:00, 2024-01-01 00:10:00+00:00\n",
      "10m: 1704067800.0, 1735689600.0\n",
      "1m: 1704067320.0, 1735682400.0\n"
     ]
    }
   ],
   "source": [
    "years = [2014, 2016, 2018, 2020, 2022, 2024, 2025]\n",
    "\n",
    "precip_1m_val = []\n",
    "precip_1m_time = []\n",
    "precip_10m_val = []\n",
    "precip_10m_time = []\n",
    "for i in range(1,len(years)):\n",
    "    with open(f\"dmi_{years[i-1]}_{years[i]}.bin\", 'rb') as f:\n",
    "        data = pickle.loads(f.read())\n",
    "    f.close()\n",
    "    precip_1m_tmp = data[\"precip_past1min\"][:-1]\n",
    "    precip_1m_val_tmp = np.flip(np.array([i.value for i in precip_1m_tmp]))\n",
    "    precip_1m_time_tmp = np.flip(np.array([i.observedTime.timestamp() for i in precip_1m_tmp]))\n",
    "    # precip_1m_time = precip_1m_time - precip_1m_time[0]\n",
    "    precip_10m_tmp = data[\"precip_past10min\"][:-1]\n",
    "    precip_10m_val_tmp = np.flip(np.array([i.value for i in precip_10m_tmp]))\n",
    "    precip_10m_time_tmp = np.flip(np.array([i.observedTime.timestamp() for i in precip_10m_tmp]))\n",
    "    print(f\"t: {precip_10m_tmp[0].observedTime}, {precip_10m_tmp[-1].observedTime}\")\n",
    "    print(f\"10m: {precip_10m_time_tmp[0]}, {precip_10m_time_tmp[-1]}\")\n",
    "    print(f\"1m: {precip_1m_time_tmp[0]}, {precip_1m_time_tmp[-1]}\")\n",
    "    precip_1m_time.extend(precip_1m_time_tmp)\n",
    "    precip_1m_val.extend(precip_1m_val_tmp)\n",
    "    precip_10m_time.extend(precip_10m_time_tmp)\n",
    "    precip_10m_val.extend(precip_10m_val_tmp)\n"
   ]
  },
  {
   "cell_type": "code",
   "execution_count": 5,
   "id": "908c90bd",
   "metadata": {},
   "outputs": [
    {
     "name": "stdout",
     "output_type": "stream",
     "text": [
      "578544.12\n",
      "574147\n",
      "105120\n",
      "1388535000.0\n",
      "1735689600.0\n"
     ]
    }
   ],
   "source": [
    "print(6*24*365.2425*11)\n",
    "print(len(precip_10m_time))\n",
    "print(6*24*365*2)\n",
    "print(precip_10m_time[0])\n",
    "print(precip_10m_time[-1])"
   ]
  },
  {
   "cell_type": "code",
   "execution_count": 6,
   "id": "bc07483f",
   "metadata": {},
   "outputs": [],
   "source": [
    "\n",
    "ran = np.arange(precip_10m_time[0], precip_10m_time[-1], 60)\n",
    "val = []\n",
    "\n",
    "idx = 0\n",
    "for i, t in enumerate(ran):\n",
    "    if idx < len(precip_1m_time) and (precip_1m_time[idx] == t):\n",
    "        val.append(precip_1m_val[idx])\n",
    "        idx += 1\n",
    "    else:\n",
    "        val.append(0.0)\n",
    "\n",
    "val = np.array(val)"
   ]
  },
  {
   "cell_type": "code",
   "execution_count": 7,
   "id": "234eea5c",
   "metadata": {},
   "outputs": [
    {
     "name": "stdout",
     "output_type": "stream",
     "text": [
      "574147 299984 5785910\n",
      "1388535000.0 1735689600.0\n",
      "1388535000.0 1735689540.0\n",
      "1423023720.0 1735682400.0\n"
     ]
    }
   ],
   "source": [
    "print(len(precip_10m_time), len(precip_1m_val), len(ran))\n",
    "print(precip_10m_time[0], precip_10m_time[-1])\n",
    "print(ran[0], ran[-1])\n",
    "print(precip_1m_time[0], precip_1m_time[-1])"
   ]
  },
  {
   "cell_type": "code",
   "execution_count": 8,
   "id": "08f2124c",
   "metadata": {},
   "outputs": [
    {
     "name": "stdout",
     "output_type": "stream",
     "text": [
      "[34289]\n",
      "2016-03-05 19:22:00\n",
      "2.6\n",
      "[102152]\n",
      "2018-08-23 19:36:00\n",
      "2.1\n",
      "[204105]\n",
      "2021-12-01 08:40:00\n",
      "2.1\n"
     ]
    }
   ],
   "source": [
    "\n",
    "idxs = np.argwhere(np.array(precip_1m_val) > 2)\n",
    "for idx in idxs:\n",
    "    print(idx)\n",
    "    ts = precip_1m_time[idx[0]]\n",
    "    print(datetime.fromtimestamp(ts))\n",
    "    print(precip_1m_val[idx[0]])"
   ]
  },
  {
   "cell_type": "code",
   "execution_count": 9,
   "id": "677e282d",
   "metadata": {},
   "outputs": [
    {
     "data": {
      "text/plain": [
       "<matplotlib.legend.Legend at 0x7076011bf5f0>"
      ]
     },
     "execution_count": 9,
     "metadata": {},
     "output_type": "execute_result"
    }
   ],
   "source": [
    "%matplotlib tk\n",
    "#plt.plot(precip_1m_val)\n",
    "plt.figure()\n",
    "plt.scatter(precip_1m_time, precip_1m_val, color='tab:blue', label = 'precip 1m')\n",
    "#plt.scatter(precip_10m_time, precip_10m_val, color=\"tab:orange\", label = 'precip10m', alpha=0.5)\n",
    "plt.scatter(ran, val, color='tab:green', label = 'recon', marker='x')\n",
    "plt.legend()"
   ]
  },
  {
   "cell_type": "code",
   "execution_count": 10,
   "id": "ffa132fa",
   "metadata": {},
   "outputs": [
    {
     "name": "stdout",
     "output_type": "stream",
     "text": [
      "[0.  0.1 0.2 0.3 0.4 0.5 0.6 0.7 0.8 0.9 1.  1.1 1.2 1.3 1.4 1.5 1.6 1.7\n",
      " 1.8 2.1 2.6]\n",
      "[ 0  1  2  3  4  5  6  7  8  9 10 11 12 13 14 15 16 17 18 19 20]\n"
     ]
    },
    {
     "name": "stderr",
     "output_type": "stream",
     "text": [
      "100%|██████████| 5785909/5785909 [02:29<00:00, 38823.57it/s]\n"
     ]
    }
   ],
   "source": [
    "from tqdm import tqdm\n",
    "def get_state(state_values, curr_value):\n",
    "    return np.where(np.isclose(state_values, curr_value))[0][0]\n",
    "\n",
    "states_values = np.unique(val)\n",
    "print(states_values)\n",
    "s_range = np.arange(len(states_values))\n",
    "print(s_range)\n",
    "\n",
    "state_counter = np.zeros((len(states_values),len(states_values)),dtype=np.float32)\n",
    "\n",
    "prev_state = get_state(states_values, val[0])\n",
    "for i in tqdm(range(1, len(val))):\n",
    "    gcs = get_state(states_values, val[i])\n",
    "    state_counter[prev_state, gcs] += 1\n",
    "    prev_state = gcs\n",
    "\n",
    "P = state_counter\n",
    "\n"
   ]
  },
  {
   "cell_type": "code",
   "execution_count": null,
   "id": "9a3e76cf",
   "metadata": {},
   "outputs": [
    {
     "name": "stdout",
     "output_type": "stream",
     "text": [
      "[[9.91581857e-01 8.18171818e-03 1.89752391e-04 3.00528645e-05\n",
      "  7.16376417e-06 3.66924519e-06 2.09671157e-06 1.22308177e-06\n",
      "  3.49451909e-07 6.98903818e-07 0.00000000e+00 1.74725955e-07\n",
      "  3.49451909e-07 1.74725955e-07 0.00000000e+00 0.00000000e+00\n",
      "  1.74725955e-07 0.00000000e+00 1.74725955e-07 1.74725955e-07\n",
      "  1.74725955e-07]\n",
      " [8.17837298e-01 1.55545890e-01 2.15751044e-02 3.49443662e-03\n",
      "  7.64951343e-04 2.95549369e-04 2.60778848e-04 1.39082054e-04\n",
      "  3.47705136e-05 3.47705136e-05 1.73852568e-05 0.00000000e+00\n",
      "  0.00000000e+00 0.00000000e+00 0.00000000e+00 0.00000000e+00\n",
      "  0.00000000e+00 0.00000000e+00 0.00000000e+00 0.00000000e+00\n",
      "  0.00000000e+00]\n",
      " [2.88622767e-01 4.21556890e-01 1.89221561e-01 6.19760491e-02\n",
      "  2.15568859e-02 9.58083849e-03 3.29341320e-03 1.79640716e-03\n",
      "  2.99401203e-04 8.98203580e-04 2.99401203e-04 2.99401203e-04\n",
      "  2.99401203e-04 0.00000000e+00 0.00000000e+00 0.00000000e+00\n",
      "  0.00000000e+00 2.99401203e-04 0.00000000e+00 0.00000000e+00\n",
      "  0.00000000e+00]\n",
      " [1.31729662e-01 2.66895771e-01 2.70332187e-01 1.54639170e-01\n",
      "  8.01832750e-02 4.46735397e-02 2.52004582e-02 1.14547536e-02\n",
      "  6.87285233e-03 2.29095086e-03 2.29095086e-03 1.14547543e-03\n",
      "  2.29095086e-03 0.00000000e+00 0.00000000e+00 0.00000000e+00\n",
      "  0.00000000e+00 0.00000000e+00 0.00000000e+00 0.00000000e+00\n",
      "  0.00000000e+00]\n",
      " [7.16332346e-02 1.91977084e-01 2.29226366e-01 1.89111754e-01\n",
      "  1.40401140e-01 1.03151865e-01 4.01146114e-02 5.73065924e-03\n",
      "  1.14613185e-02 2.86532962e-03 2.86532962e-03 2.86532962e-03\n",
      "  2.86532962e-03 0.00000000e+00 5.73065924e-03 0.00000000e+00\n",
      "  0.00000000e+00 0.00000000e+00 0.00000000e+00 0.00000000e+00\n",
      "  0.00000000e+00]\n",
      " [3.68663594e-02 7.37327188e-02 1.79723501e-01 2.44239628e-01\n",
      "  1.65898621e-01 1.19815670e-01 6.91244230e-02 4.60829511e-02\n",
      "  3.22580636e-02 1.84331797e-02 9.21658985e-03 0.00000000e+00\n",
      "  0.00000000e+00 0.00000000e+00 0.00000000e+00 0.00000000e+00\n",
      "  0.00000000e+00 0.00000000e+00 0.00000000e+00 4.60829493e-03\n",
      "  0.00000000e+00]\n",
      " [5.51181100e-02 8.66141766e-02 8.66141766e-02 1.49606302e-01\n",
      "  1.10236220e-01 1.65354326e-01 1.02362208e-01 4.72440943e-02\n",
      "  6.29921257e-02 5.51181100e-02 1.57480314e-02 1.57480314e-02\n",
      "  3.14960629e-02 0.00000000e+00 7.87401572e-03 7.87401572e-03\n",
      "  0.00000000e+00 0.00000000e+00 0.00000000e+00 0.00000000e+00\n",
      "  0.00000000e+00]\n",
      " [6.41025677e-02 5.12820520e-02 1.15384616e-01 1.66666672e-01\n",
      "  1.41025648e-01 1.41025648e-01 1.02564104e-01 1.02564104e-01\n",
      "  2.56410260e-02 2.56410260e-02 2.56410260e-02 1.28205130e-02\n",
      "  2.56410260e-02 0.00000000e+00 0.00000000e+00 0.00000000e+00\n",
      "  0.00000000e+00 0.00000000e+00 0.00000000e+00 0.00000000e+00\n",
      "  0.00000000e+00]\n",
      " [4.65116277e-02 4.65116277e-02 4.65116277e-02 6.97674453e-02\n",
      "  1.16279073e-01 1.16279073e-01 1.39534891e-01 1.62790701e-01\n",
      "  4.65116277e-02 9.30232555e-02 9.30232555e-02 2.32558139e-02\n",
      "  0.00000000e+00 0.00000000e+00 0.00000000e+00 0.00000000e+00\n",
      "  0.00000000e+00 0.00000000e+00 0.00000000e+00 0.00000000e+00\n",
      "  0.00000000e+00]\n",
      " [5.88235296e-02 5.88235296e-02 2.94117648e-02 5.88235296e-02\n",
      "  2.94117648e-02 1.17647059e-01 2.05882356e-01 1.17647059e-01\n",
      "  8.82352963e-02 2.94117648e-02 8.82352963e-02 5.88235296e-02\n",
      "  2.94117648e-02 0.00000000e+00 0.00000000e+00 2.94117648e-02\n",
      "  0.00000000e+00 0.00000000e+00 0.00000000e+00 0.00000000e+00\n",
      "  0.00000000e+00]\n",
      " [0.00000000e+00 4.34782617e-02 4.34782617e-02 4.34782617e-02\n",
      "  2.17391297e-01 4.34782617e-02 4.34782617e-02 1.30434781e-01\n",
      "  8.69565234e-02 1.30434781e-01 4.34782617e-02 4.34782617e-02\n",
      "  8.69565234e-02 4.34782617e-02 0.00000000e+00 0.00000000e+00\n",
      "  0.00000000e+00 0.00000000e+00 0.00000000e+00 0.00000000e+00\n",
      "  0.00000000e+00]\n",
      " [6.66666701e-02 0.00000000e+00 6.66666701e-02 0.00000000e+00\n",
      "  0.00000000e+00 1.33333340e-01 6.66666701e-02 1.33333340e-01\n",
      "  0.00000000e+00 6.66666701e-02 2.66666681e-01 6.66666701e-02\n",
      "  6.66666701e-02 6.66666701e-02 0.00000000e+00 0.00000000e+00\n",
      "  0.00000000e+00 0.00000000e+00 0.00000000e+00 0.00000000e+00\n",
      "  0.00000000e+00]\n",
      " [1.11111112e-01 1.11111112e-01 0.00000000e+00 5.55555560e-02\n",
      "  0.00000000e+00 0.00000000e+00 5.55555560e-02 2.22222224e-01\n",
      "  1.11111112e-01 0.00000000e+00 0.00000000e+00 0.00000000e+00\n",
      "  5.55555560e-02 1.11111112e-01 0.00000000e+00 5.55555560e-02\n",
      "  1.11111112e-01 0.00000000e+00 0.00000000e+00 0.00000000e+00\n",
      "  0.00000000e+00]\n",
      " [1.66666672e-01 0.00000000e+00 0.00000000e+00 0.00000000e+00\n",
      "  0.00000000e+00 0.00000000e+00 0.00000000e+00 0.00000000e+00\n",
      "  0.00000000e+00 0.00000000e+00 0.00000000e+00 5.00000000e-01\n",
      "  0.00000000e+00 1.66666672e-01 0.00000000e+00 0.00000000e+00\n",
      "  1.66666672e-01 0.00000000e+00 0.00000000e+00 0.00000000e+00\n",
      "  0.00000000e+00]\n",
      " [0.00000000e+00 0.00000000e+00 3.33333343e-01 0.00000000e+00\n",
      "  0.00000000e+00 0.00000000e+00 0.00000000e+00 0.00000000e+00\n",
      "  3.33333343e-01 0.00000000e+00 0.00000000e+00 0.00000000e+00\n",
      "  0.00000000e+00 0.00000000e+00 0.00000000e+00 0.00000000e+00\n",
      "  3.33333343e-01 0.00000000e+00 0.00000000e+00 0.00000000e+00\n",
      "  0.00000000e+00]\n",
      " [0.00000000e+00 0.00000000e+00 0.00000000e+00 0.00000000e+00\n",
      "  2.50000000e-01 2.50000000e-01 0.00000000e+00 0.00000000e+00\n",
      "  0.00000000e+00 0.00000000e+00 0.00000000e+00 0.00000000e+00\n",
      "  0.00000000e+00 0.00000000e+00 0.00000000e+00 2.50000000e-01\n",
      "  0.00000000e+00 2.50000000e-01 0.00000000e+00 0.00000000e+00\n",
      "  0.00000000e+00]\n",
      " [4.00000006e-01 2.00000003e-01 0.00000000e+00 0.00000000e+00\n",
      "  0.00000000e+00 0.00000000e+00 2.00000003e-01 2.00000003e-01\n",
      "  0.00000000e+00 0.00000000e+00 0.00000000e+00 0.00000000e+00\n",
      "  0.00000000e+00 0.00000000e+00 0.00000000e+00 0.00000000e+00\n",
      "  0.00000000e+00 0.00000000e+00 0.00000000e+00 0.00000000e+00\n",
      "  0.00000000e+00]\n",
      " [0.00000000e+00 0.00000000e+00 0.00000000e+00 0.00000000e+00\n",
      "  0.00000000e+00 5.00000000e-01 0.00000000e+00 0.00000000e+00\n",
      "  5.00000000e-01 0.00000000e+00 0.00000000e+00 0.00000000e+00\n",
      "  0.00000000e+00 0.00000000e+00 0.00000000e+00 0.00000000e+00\n",
      "  0.00000000e+00 0.00000000e+00 0.00000000e+00 0.00000000e+00\n",
      "  0.00000000e+00]\n",
      " [1.00000000e+00 0.00000000e+00 0.00000000e+00 0.00000000e+00\n",
      "  0.00000000e+00 0.00000000e+00 0.00000000e+00 0.00000000e+00\n",
      "  0.00000000e+00 0.00000000e+00 0.00000000e+00 0.00000000e+00\n",
      "  0.00000000e+00 0.00000000e+00 0.00000000e+00 0.00000000e+00\n",
      "  0.00000000e+00 0.00000000e+00 0.00000000e+00 0.00000000e+00\n",
      "  0.00000000e+00]\n",
      " [5.00000000e-01 0.00000000e+00 0.00000000e+00 0.00000000e+00\n",
      "  0.00000000e+00 0.00000000e+00 0.00000000e+00 0.00000000e+00\n",
      "  0.00000000e+00 0.00000000e+00 0.00000000e+00 0.00000000e+00\n",
      "  5.00000000e-01 0.00000000e+00 0.00000000e+00 0.00000000e+00\n",
      "  0.00000000e+00 0.00000000e+00 0.00000000e+00 0.00000000e+00\n",
      "  0.00000000e+00]\n",
      " [1.00000000e+00 0.00000000e+00 0.00000000e+00 0.00000000e+00\n",
      "  0.00000000e+00 0.00000000e+00 0.00000000e+00 0.00000000e+00\n",
      "  0.00000000e+00 0.00000000e+00 0.00000000e+00 0.00000000e+00\n",
      "  0.00000000e+00 0.00000000e+00 0.00000000e+00 0.00000000e+00\n",
      "  0.00000000e+00 0.00000000e+00 0.00000000e+00 0.00000000e+00\n",
      "  0.00000000e+00]]\n"
     ]
    },
    {
     "name": "stderr",
     "output_type": "stream",
     "text": [
      "/home/dyb/miniconda3/envs/godot/lib/python3.12/tkinter/__init__.py:862: UserWarning: Creating legend with loc=\"best\" can be slow with large amounts of data.\n",
      "  func(*args)\n"
     ]
    }
   ],
   "source": [
    "P = state_counter\n",
    "for i in range(len(states_values)):\n",
    "    state_sum = np.sum(P[i,:])\n",
    "    if state_sum > 0:\n",
    "        P[i,:] = P[i,:] / state_sum\n",
    "print(P)"
   ]
  },
  {
   "cell_type": "code",
   "execution_count": 12,
   "id": "2fe8e087",
   "metadata": {},
   "outputs": [],
   "source": [
    "# np.save('aau_model',P)\n",
    "# np.save('aau_states',states_values)\n",
    "P = np.load('aau_model.npy')\n",
    "states_values = np.load('aau_states.npy')"
   ]
  },
  {
   "cell_type": "code",
   "execution_count": 13,
   "id": "8992f219",
   "metadata": {},
   "outputs": [],
   "source": [
    "import seaborn as sns\n",
    "import matplotlib.pyplot as plt\n",
    "\n",
    "plt.figure(figsize=(15, 15))\n",
    "sns.heatmap(state_counter, \n",
    "            annot=True, \n",
    "            fmt=\".4f\", \n",
    "            cmap=\"viridis\", \n",
    "            xticklabels=states_values,\n",
    "            yticklabels=states_values,)\n",
    "plt.xlabel(\"Next State\")\n",
    "plt.ylabel(\"Current State\")\n",
    "plt.title(\"Markov Transition Matrix Heatmap\")\n",
    "plt.tight_layout()\n",
    "plt.show()\n"
   ]
  },
  {
   "cell_type": "code",
   "execution_count": 14,
   "id": "de7b4486",
   "metadata": {},
   "outputs": [
    {
     "name": "stderr",
     "output_type": "stream",
     "text": [
      "  0%|          | 0/999 [00:00<?, ?it/s]/tmp/ipykernel_853896/303941195.py:7: DeprecationWarning: Conversion of an array with ndim > 0 to a scalar is deprecated, and will error in future. Ensure you extract a single element from your array before performing this operation. (Deprecated NumPy 1.25.)\n",
      "  states[i] = curr_state\n",
      "/tmp/ipykernel_853896/303941195.py:8: DeprecationWarning: Conversion of an array with ndim > 0 to a scalar is deprecated, and will error in future. Ensure you extract a single element from your array before performing this operation. (Deprecated NumPy 1.25.)\n",
      "  fake_rain[i] = states_values[curr_state]\n",
      "100%|██████████| 999/999 [00:00<00:00, 27478.83it/s]\n"
     ]
    }
   ],
   "source": [
    "N = int(1e3)\n",
    "states = np.zeros(N, dtype=np.int8)\n",
    "fake_rain = np.zeros(N, dtype=np.float32)\n",
    "for i in tqdm(range(1, N)):\n",
    "    prev_state = states[i-1]\n",
    "    curr_state = np.random.choice(s_range,1,True,P[prev_state,:])\n",
    "    states[i] = curr_state\n",
    "    fake_rain[i] = states_values[curr_state]"
   ]
  },
  {
   "cell_type": "code",
   "execution_count": 15,
   "id": "6b860c1b",
   "metadata": {},
   "outputs": [
    {
     "data": {
      "text/plain": [
       "<matplotlib.legend.Legend at 0x70760124ade0>"
      ]
     },
     "execution_count": 15,
     "metadata": {},
     "output_type": "execute_result"
    }
   ],
   "source": [
    "%matplotlib tk\n",
    "plt.plot(precip_1m_val)\n",
    "plt.figure()\n",
    "plt.hist(val[val > 0.1], color='tab:blue', label = 'real', alpha=0.5, bins=100)\n",
    "plt.hist(fake_rain[fake_rain > 0.1], color='tab:orange', label = 'fake', alpha=0.5, bins=100)\n",
    "plt.legend()"
   ]
  },
  {
   "cell_type": "code",
   "execution_count": 16,
   "id": "5576d917",
   "metadata": {},
   "outputs": [
    {
     "ename": "ValueError",
     "evalue": "x and y must be the same size",
     "output_type": "error",
     "traceback": [
      "\u001b[31m---------------------------------------------------------------------------\u001b[39m",
      "\u001b[31mValueError\u001b[39m                                Traceback (most recent call last)",
      "\u001b[36mCell\u001b[39m\u001b[36m \u001b[39m\u001b[32mIn[16]\u001b[39m\u001b[32m, line 5\u001b[39m\n\u001b[32m      3\u001b[39m plt.figure()\n\u001b[32m      4\u001b[39m plt.scatter(ran, val, color=\u001b[33m'\u001b[39m\u001b[33mtab:blue\u001b[39m\u001b[33m'\u001b[39m, label = \u001b[33m'\u001b[39m\u001b[33mReal data\u001b[39m\u001b[33m'\u001b[39m, marker=\u001b[33m'\u001b[39m\u001b[33mx\u001b[39m\u001b[33m'\u001b[39m)\n\u001b[32m----> \u001b[39m\u001b[32m5\u001b[39m \u001b[43mplt\u001b[49m\u001b[43m.\u001b[49m\u001b[43mscatter\u001b[49m\u001b[43m(\u001b[49m\u001b[43mran\u001b[49m\u001b[43m,\u001b[49m\u001b[43m \u001b[49m\u001b[43mfake_rain\u001b[49m\u001b[43m,\u001b[49m\u001b[43m \u001b[49m\u001b[43mcolor\u001b[49m\u001b[43m=\u001b[49m\u001b[33;43m'\u001b[39;49m\u001b[33;43mtab:orange\u001b[39;49m\u001b[33;43m'\u001b[39;49m\u001b[43m,\u001b[49m\u001b[43m \u001b[49m\u001b[43mlabel\u001b[49m\u001b[43m \u001b[49m\u001b[43m=\u001b[49m\u001b[43m \u001b[49m\u001b[33;43m'\u001b[39;49m\u001b[33;43mmarkov data\u001b[39;49m\u001b[33;43m'\u001b[39;49m\u001b[43m,\u001b[49m\u001b[43m \u001b[49m\u001b[43mmarker\u001b[49m\u001b[43m=\u001b[49m\u001b[33;43m'\u001b[39;49m\u001b[33;43mx\u001b[39;49m\u001b[33;43m'\u001b[39;49m\u001b[43m)\u001b[49m\n\u001b[32m      6\u001b[39m plt.legend()\n",
      "\u001b[36mFile \u001b[39m\u001b[32m~/miniconda3/envs/godot/lib/python3.12/site-packages/matplotlib/_api/deprecation.py:453\u001b[39m, in \u001b[36mmake_keyword_only.<locals>.wrapper\u001b[39m\u001b[34m(*args, **kwargs)\u001b[39m\n\u001b[32m    447\u001b[39m \u001b[38;5;28;01mif\u001b[39;00m \u001b[38;5;28mlen\u001b[39m(args) > name_idx:\n\u001b[32m    448\u001b[39m     warn_deprecated(\n\u001b[32m    449\u001b[39m         since, message=\u001b[33m\"\u001b[39m\u001b[33mPassing the \u001b[39m\u001b[38;5;132;01m%(name)s\u001b[39;00m\u001b[33m \u001b[39m\u001b[38;5;132;01m%(obj_type)s\u001b[39;00m\u001b[33m \u001b[39m\u001b[33m\"\u001b[39m\n\u001b[32m    450\u001b[39m         \u001b[33m\"\u001b[39m\u001b[33mpositionally is deprecated since Matplotlib \u001b[39m\u001b[38;5;132;01m%(since)s\u001b[39;00m\u001b[33m; the \u001b[39m\u001b[33m\"\u001b[39m\n\u001b[32m    451\u001b[39m         \u001b[33m\"\u001b[39m\u001b[33mparameter will become keyword-only in \u001b[39m\u001b[38;5;132;01m%(removal)s\u001b[39;00m\u001b[33m.\u001b[39m\u001b[33m\"\u001b[39m,\n\u001b[32m    452\u001b[39m         name=name, obj_type=\u001b[33mf\u001b[39m\u001b[33m\"\u001b[39m\u001b[33mparameter of \u001b[39m\u001b[38;5;132;01m{\u001b[39;00mfunc.\u001b[34m__name__\u001b[39m\u001b[38;5;132;01m}\u001b[39;00m\u001b[33m()\u001b[39m\u001b[33m\"\u001b[39m)\n\u001b[32m--> \u001b[39m\u001b[32m453\u001b[39m \u001b[38;5;28;01mreturn\u001b[39;00m \u001b[43mfunc\u001b[49m\u001b[43m(\u001b[49m\u001b[43m*\u001b[49m\u001b[43margs\u001b[49m\u001b[43m,\u001b[49m\u001b[43m \u001b[49m\u001b[43m*\u001b[49m\u001b[43m*\u001b[49m\u001b[43mkwargs\u001b[49m\u001b[43m)\u001b[49m\n",
      "\u001b[36mFile \u001b[39m\u001b[32m~/miniconda3/envs/godot/lib/python3.12/site-packages/matplotlib/pyplot.py:3939\u001b[39m, in \u001b[36mscatter\u001b[39m\u001b[34m(x, y, s, c, marker, cmap, norm, vmin, vmax, alpha, linewidths, edgecolors, colorizer, plotnonfinite, data, **kwargs)\u001b[39m\n\u001b[32m   3919\u001b[39m \u001b[38;5;129m@_copy_docstring_and_deprecators\u001b[39m(Axes.scatter)\n\u001b[32m   3920\u001b[39m \u001b[38;5;28;01mdef\u001b[39;00m \u001b[34mscatter\u001b[39m(\n\u001b[32m   3921\u001b[39m     x: \u001b[38;5;28mfloat\u001b[39m | ArrayLike,\n\u001b[32m   (...)\u001b[39m\u001b[32m   3937\u001b[39m     **kwargs,\n\u001b[32m   3938\u001b[39m ) -> PathCollection:\n\u001b[32m-> \u001b[39m\u001b[32m3939\u001b[39m     __ret = \u001b[43mgca\u001b[49m\u001b[43m(\u001b[49m\u001b[43m)\u001b[49m\u001b[43m.\u001b[49m\u001b[43mscatter\u001b[49m\u001b[43m(\u001b[49m\n\u001b[32m   3940\u001b[39m \u001b[43m        \u001b[49m\u001b[43mx\u001b[49m\u001b[43m,\u001b[49m\n\u001b[32m   3941\u001b[39m \u001b[43m        \u001b[49m\u001b[43my\u001b[49m\u001b[43m,\u001b[49m\n\u001b[32m   3942\u001b[39m \u001b[43m        \u001b[49m\u001b[43ms\u001b[49m\u001b[43m=\u001b[49m\u001b[43ms\u001b[49m\u001b[43m,\u001b[49m\n\u001b[32m   3943\u001b[39m \u001b[43m        \u001b[49m\u001b[43mc\u001b[49m\u001b[43m=\u001b[49m\u001b[43mc\u001b[49m\u001b[43m,\u001b[49m\n\u001b[32m   3944\u001b[39m \u001b[43m        \u001b[49m\u001b[43mmarker\u001b[49m\u001b[43m=\u001b[49m\u001b[43mmarker\u001b[49m\u001b[43m,\u001b[49m\n\u001b[32m   3945\u001b[39m \u001b[43m        \u001b[49m\u001b[43mcmap\u001b[49m\u001b[43m=\u001b[49m\u001b[43mcmap\u001b[49m\u001b[43m,\u001b[49m\n\u001b[32m   3946\u001b[39m \u001b[43m        \u001b[49m\u001b[43mnorm\u001b[49m\u001b[43m=\u001b[49m\u001b[43mnorm\u001b[49m\u001b[43m,\u001b[49m\n\u001b[32m   3947\u001b[39m \u001b[43m        \u001b[49m\u001b[43mvmin\u001b[49m\u001b[43m=\u001b[49m\u001b[43mvmin\u001b[49m\u001b[43m,\u001b[49m\n\u001b[32m   3948\u001b[39m \u001b[43m        \u001b[49m\u001b[43mvmax\u001b[49m\u001b[43m=\u001b[49m\u001b[43mvmax\u001b[49m\u001b[43m,\u001b[49m\n\u001b[32m   3949\u001b[39m \u001b[43m        \u001b[49m\u001b[43malpha\u001b[49m\u001b[43m=\u001b[49m\u001b[43malpha\u001b[49m\u001b[43m,\u001b[49m\n\u001b[32m   3950\u001b[39m \u001b[43m        \u001b[49m\u001b[43mlinewidths\u001b[49m\u001b[43m=\u001b[49m\u001b[43mlinewidths\u001b[49m\u001b[43m,\u001b[49m\n\u001b[32m   3951\u001b[39m \u001b[43m        \u001b[49m\u001b[43medgecolors\u001b[49m\u001b[43m=\u001b[49m\u001b[43medgecolors\u001b[49m\u001b[43m,\u001b[49m\n\u001b[32m   3952\u001b[39m \u001b[43m        \u001b[49m\u001b[43mcolorizer\u001b[49m\u001b[43m=\u001b[49m\u001b[43mcolorizer\u001b[49m\u001b[43m,\u001b[49m\n\u001b[32m   3953\u001b[39m \u001b[43m        \u001b[49m\u001b[43mplotnonfinite\u001b[49m\u001b[43m=\u001b[49m\u001b[43mplotnonfinite\u001b[49m\u001b[43m,\u001b[49m\n\u001b[32m   3954\u001b[39m \u001b[43m        \u001b[49m\u001b[43m*\u001b[49m\u001b[43m*\u001b[49m\u001b[43m(\u001b[49m\u001b[43m{\u001b[49m\u001b[33;43m\"\u001b[39;49m\u001b[33;43mdata\u001b[39;49m\u001b[33;43m\"\u001b[39;49m\u001b[43m:\u001b[49m\u001b[43m \u001b[49m\u001b[43mdata\u001b[49m\u001b[43m}\u001b[49m\u001b[43m \u001b[49m\u001b[38;5;28;43;01mif\u001b[39;49;00m\u001b[43m \u001b[49m\u001b[43mdata\u001b[49m\u001b[43m \u001b[49m\u001b[38;5;129;43;01mis\u001b[39;49;00m\u001b[43m \u001b[49m\u001b[38;5;129;43;01mnot\u001b[39;49;00m\u001b[43m \u001b[49m\u001b[38;5;28;43;01mNone\u001b[39;49;00m\u001b[43m \u001b[49m\u001b[38;5;28;43;01melse\u001b[39;49;00m\u001b[43m \u001b[49m\u001b[43m{\u001b[49m\u001b[43m}\u001b[49m\u001b[43m)\u001b[49m\u001b[43m,\u001b[49m\n\u001b[32m   3955\u001b[39m \u001b[43m        \u001b[49m\u001b[43m*\u001b[49m\u001b[43m*\u001b[49m\u001b[43mkwargs\u001b[49m\u001b[43m,\u001b[49m\n\u001b[32m   3956\u001b[39m \u001b[43m    \u001b[49m\u001b[43m)\u001b[49m\n\u001b[32m   3957\u001b[39m     sci(__ret)\n\u001b[32m   3958\u001b[39m     \u001b[38;5;28;01mreturn\u001b[39;00m __ret\n",
      "\u001b[36mFile \u001b[39m\u001b[32m~/miniconda3/envs/godot/lib/python3.12/site-packages/matplotlib/_api/deprecation.py:453\u001b[39m, in \u001b[36mmake_keyword_only.<locals>.wrapper\u001b[39m\u001b[34m(*args, **kwargs)\u001b[39m\n\u001b[32m    447\u001b[39m \u001b[38;5;28;01mif\u001b[39;00m \u001b[38;5;28mlen\u001b[39m(args) > name_idx:\n\u001b[32m    448\u001b[39m     warn_deprecated(\n\u001b[32m    449\u001b[39m         since, message=\u001b[33m\"\u001b[39m\u001b[33mPassing the \u001b[39m\u001b[38;5;132;01m%(name)s\u001b[39;00m\u001b[33m \u001b[39m\u001b[38;5;132;01m%(obj_type)s\u001b[39;00m\u001b[33m \u001b[39m\u001b[33m\"\u001b[39m\n\u001b[32m    450\u001b[39m         \u001b[33m\"\u001b[39m\u001b[33mpositionally is deprecated since Matplotlib \u001b[39m\u001b[38;5;132;01m%(since)s\u001b[39;00m\u001b[33m; the \u001b[39m\u001b[33m\"\u001b[39m\n\u001b[32m    451\u001b[39m         \u001b[33m\"\u001b[39m\u001b[33mparameter will become keyword-only in \u001b[39m\u001b[38;5;132;01m%(removal)s\u001b[39;00m\u001b[33m.\u001b[39m\u001b[33m\"\u001b[39m,\n\u001b[32m    452\u001b[39m         name=name, obj_type=\u001b[33mf\u001b[39m\u001b[33m\"\u001b[39m\u001b[33mparameter of \u001b[39m\u001b[38;5;132;01m{\u001b[39;00mfunc.\u001b[34m__name__\u001b[39m\u001b[38;5;132;01m}\u001b[39;00m\u001b[33m()\u001b[39m\u001b[33m\"\u001b[39m)\n\u001b[32m--> \u001b[39m\u001b[32m453\u001b[39m \u001b[38;5;28;01mreturn\u001b[39;00m \u001b[43mfunc\u001b[49m\u001b[43m(\u001b[49m\u001b[43m*\u001b[49m\u001b[43margs\u001b[49m\u001b[43m,\u001b[49m\u001b[43m \u001b[49m\u001b[43m*\u001b[49m\u001b[43m*\u001b[49m\u001b[43mkwargs\u001b[49m\u001b[43m)\u001b[49m\n",
      "\u001b[36mFile \u001b[39m\u001b[32m~/miniconda3/envs/godot/lib/python3.12/site-packages/matplotlib/__init__.py:1521\u001b[39m, in \u001b[36m_preprocess_data.<locals>.inner\u001b[39m\u001b[34m(ax, data, *args, **kwargs)\u001b[39m\n\u001b[32m   1518\u001b[39m \u001b[38;5;129m@functools\u001b[39m.wraps(func)\n\u001b[32m   1519\u001b[39m \u001b[38;5;28;01mdef\u001b[39;00m \u001b[34minner\u001b[39m(ax, *args, data=\u001b[38;5;28;01mNone\u001b[39;00m, **kwargs):\n\u001b[32m   1520\u001b[39m     \u001b[38;5;28;01mif\u001b[39;00m data \u001b[38;5;129;01mis\u001b[39;00m \u001b[38;5;28;01mNone\u001b[39;00m:\n\u001b[32m-> \u001b[39m\u001b[32m1521\u001b[39m         \u001b[38;5;28;01mreturn\u001b[39;00m \u001b[43mfunc\u001b[49m\u001b[43m(\u001b[49m\n\u001b[32m   1522\u001b[39m \u001b[43m            \u001b[49m\u001b[43max\u001b[49m\u001b[43m,\u001b[49m\n\u001b[32m   1523\u001b[39m \u001b[43m            \u001b[49m\u001b[43m*\u001b[49m\u001b[38;5;28;43mmap\u001b[39;49m\u001b[43m(\u001b[49m\u001b[43mcbook\u001b[49m\u001b[43m.\u001b[49m\u001b[43msanitize_sequence\u001b[49m\u001b[43m,\u001b[49m\u001b[43m \u001b[49m\u001b[43margs\u001b[49m\u001b[43m)\u001b[49m\u001b[43m,\u001b[49m\n\u001b[32m   1524\u001b[39m \u001b[43m            \u001b[49m\u001b[43m*\u001b[49m\u001b[43m*\u001b[49m\u001b[43m{\u001b[49m\u001b[43mk\u001b[49m\u001b[43m:\u001b[49m\u001b[43m \u001b[49m\u001b[43mcbook\u001b[49m\u001b[43m.\u001b[49m\u001b[43msanitize_sequence\u001b[49m\u001b[43m(\u001b[49m\u001b[43mv\u001b[49m\u001b[43m)\u001b[49m\u001b[43m \u001b[49m\u001b[38;5;28;43;01mfor\u001b[39;49;00m\u001b[43m \u001b[49m\u001b[43mk\u001b[49m\u001b[43m,\u001b[49m\u001b[43m \u001b[49m\u001b[43mv\u001b[49m\u001b[43m \u001b[49m\u001b[38;5;129;43;01min\u001b[39;49;00m\u001b[43m \u001b[49m\u001b[43mkwargs\u001b[49m\u001b[43m.\u001b[49m\u001b[43mitems\u001b[49m\u001b[43m(\u001b[49m\u001b[43m)\u001b[49m\u001b[43m}\u001b[49m\u001b[43m)\u001b[49m\n\u001b[32m   1526\u001b[39m     bound = new_sig.bind(ax, *args, **kwargs)\n\u001b[32m   1527\u001b[39m     auto_label = (bound.arguments.get(label_namer)\n\u001b[32m   1528\u001b[39m                   \u001b[38;5;129;01mor\u001b[39;00m bound.kwargs.get(label_namer))\n",
      "\u001b[36mFile \u001b[39m\u001b[32m~/miniconda3/envs/godot/lib/python3.12/site-packages/matplotlib/axes/_axes.py:4900\u001b[39m, in \u001b[36mAxes.scatter\u001b[39m\u001b[34m(self, x, y, s, c, marker, cmap, norm, vmin, vmax, alpha, linewidths, edgecolors, colorizer, plotnonfinite, **kwargs)\u001b[39m\n\u001b[32m   4898\u001b[39m y = np.ma.ravel(y)\n\u001b[32m   4899\u001b[39m \u001b[38;5;28;01mif\u001b[39;00m x.size != y.size:\n\u001b[32m-> \u001b[39m\u001b[32m4900\u001b[39m     \u001b[38;5;28;01mraise\u001b[39;00m \u001b[38;5;167;01mValueError\u001b[39;00m(\u001b[33m\"\u001b[39m\u001b[33mx and y must be the same size\u001b[39m\u001b[33m\"\u001b[39m)\n\u001b[32m   4902\u001b[39m \u001b[38;5;28;01mif\u001b[39;00m s \u001b[38;5;129;01mis\u001b[39;00m \u001b[38;5;28;01mNone\u001b[39;00m:\n\u001b[32m   4903\u001b[39m     s = (\u001b[32m20\u001b[39m \u001b[38;5;28;01mif\u001b[39;00m mpl.rcParams[\u001b[33m'\u001b[39m\u001b[33m_internal.classic_mode\u001b[39m\u001b[33m'\u001b[39m] \u001b[38;5;28;01melse\u001b[39;00m\n\u001b[32m   4904\u001b[39m          mpl.rcParams[\u001b[33m'\u001b[39m\u001b[33mlines.markersize\u001b[39m\u001b[33m'\u001b[39m] ** \u001b[32m2.0\u001b[39m)\n",
      "\u001b[31mValueError\u001b[39m: x and y must be the same size"
     ]
    },
    {
     "name": "stderr",
     "output_type": "stream",
     "text": [
      "/home/dyb/miniconda3/envs/godot/lib/python3.12/tkinter/__init__.py:862: UserWarning: Creating legend with loc=\"best\" can be slow with large amounts of data.\n",
      "  func(*args)\n"
     ]
    }
   ],
   "source": [
    "%matplotlib tk\n",
    "plt.plot(precip_1m_val)\n",
    "plt.figure()\n",
    "plt.scatter(ran, val, color='tab:blue', label = 'Real data', marker='x')\n",
    "plt.scatter(ran, fake_rain, color='tab:orange', label = 'markov data', marker='x')\n",
    "plt.legend()"
   ]
  },
  {
   "cell_type": "code",
   "execution_count": null,
   "id": "0ddcab17",
   "metadata": {},
   "outputs": [
    {
     "name": "stdout",
     "output_type": "stream",
     "text": [
      "21\n",
      "[9.8913497e-01 9.9410415e-03 5.7724403e-04 1.5087845e-04 6.0316816e-05\n",
      " 3.7503578e-05 2.1949103e-05 1.3480551e-05 7.4315858e-06 5.8761375e-06\n",
      " 3.9750344e-06 2.5924137e-06 3.1108966e-06 1.0369655e-06 5.1848269e-07\n",
      " 6.9131033e-07 8.6413797e-07 3.4565514e-07 1.7282755e-07 3.4565511e-07\n",
      " 1.7282755e-07]\n"
     ]
    }
   ],
   "source": [
    "pi = P[15,:]\n",
    "for i in range(int(1e7)):\n",
    "    pi = pi @ P\n",
    "print(pi)\n"
   ]
  },
  {
   "cell_type": "code",
   "execution_count": null,
   "id": "8efae98f",
   "metadata": {},
   "outputs": [
    {
     "name": "stdout",
     "output_type": "stream",
     "text": [
      "[  0.   6.  12.  18.  24.  30.  36.  42.  48.  54.  60.  66.  72.  78.\n",
      "  84.  90.  96. 102. 108. 126. 156.]\n"
     ]
    },
    {
     "data": {
      "image/png": "[encoded data removed]",
      "text/plain": [
       "<Figure size 640x480 with 1 Axes>"
      ]
     },
     "metadata": {},
     "output_type": "display_data"
    }
   ],
   "source": [
    "print(states_values*60)\n",
    "plt.figure()\n",
    "plt.plot(states_values*60, pi)\n",
    "plt.yscale('log')\n",
    "plt.ylabel('Probability')\n",
    "plt.xlabel('Rainfall [mm/hr]')\n",
    "plt.show()"
   ]
  }
 ],
 "metadata": {
  "kernelspec": {
   "display_name": "godot",
   "language": "python",
   "name": "python3"
  },
  "language_info": {
   "codemirror_mode": {
    "name": "ipython",
    "version": 3
   },
   "file_extension": ".py",
   "mimetype": "text/x-python",
   "name": "python",
   "nbconvert_exporter": "python",
   "pygments_lexer": "ipython3",
   "version": "3.12.9"
  }
 },
 "nbformat": 4,
 "nbformat_minor": 5
}
