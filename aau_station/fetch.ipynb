{
 "cells": [
  {
   "cell_type": "code",
   "execution_count": 5,
   "id": "21f3da02",
   "metadata": {},
   "outputs": [],
   "source": [
    "import json\n",
    "import abc\n",
    "import matplotlib.pyplot as plt\n",
    "import numpy as np\n",
    "import requests\n",
    "from datetime import datetime, timedelta\n",
    "from pytz import UTC\n",
    "import pickle\n",
    "with open(\".secret\", 'r') as f:\n",
    "    apikeys = json.loads(f.read())"
   ]
  },
  {
   "cell_type": "code",
   "execution_count": 3,
   "id": "7347b47b",
   "metadata": {},
   "outputs": [
    {
     "data": {
      "text/plain": [
       "{'metObs': '719f0415-0e36-416a-9b58-b64d7a60d7d0',\n",
       " 'forecast': '35fd2315-5551-4333-a833-3f90f0dfafc9'}"
      ]
     },
     "execution_count": 3,
     "metadata": {},
     "output_type": "execute_result"
    }
   ],
   "source": [
    "apikeys"
   ]
  },
  {
   "cell_type": "code",
   "execution_count": 6,
   "id": "50b430a5",
   "metadata": {},
   "outputs": [],
   "source": [
    "with open(\"dmi_last_2_year.bin\", 'rb') as f:\n",
    "    data = pickle.loads(f.read())\n",
    "f.close()"
   ]
  },
  {
   "cell_type": "code",
   "execution_count": 4,
   "id": "35a7eb09",
   "metadata": {},
   "outputs": [],
   "source": [
    "class weather_int(abc.ABC):\n",
    "    @abc.abstractmethod\n",
    "    def __init__(self, starttime: datetime, endtime: datetime) -> None:\n",
    "        self._starttime = starttime\n",
    "        self._endtime = endtime\n",
    "\n",
    "    @property\n",
    "    def endtime(self):\n",
    "        return self._endtime.astimezone(UTC)\n",
    "    \n",
    "    @endtime.setter\n",
    "    def endtime(self, date: datetime):\n",
    "        self._endtime = date\n",
    "\n",
    "    @property\n",
    "    def starttime(self):\n",
    "        return self._starttime.astimezone(UTC)\n",
    "    \n",
    "    @starttime.setter\n",
    "    def starttime(self, date: datetime):\n",
    "        self._starttime = date\n",
    "\n",
    "    @abc.abstractmethod\n",
    "    def output_csv(self, data, print_header = True, filename = \"./weather.csv\" ):\n",
    "        pass\n",
    "\n",
    "    @abc.abstractmethod\n",
    "    def extract_weather(self):\n",
    "        pass\n",
    "\n",
    "\n",
    "\n",
    "\n",
    "class metObs(weather_int):\n",
    "    _apikey = \"api-key=\" + apikeys[\"metObs\"]\n",
    "    _baselink = \"https://dmigw.govcloud.dk/v2/metObs/collections/observation/items/?\"\n",
    "    def __init__(self, starttime: datetime, endtime: datetime, station = 6030) -> None:\n",
    "        super().__init__(starttime, endtime)\n",
    "        self._station = station  # Default Aalborg\n",
    "        # Set parameter config\n",
    "        self._parameter_id = {\n",
    "            \"humidity\":[True, 10, \"%\"],\n",
    "            \"precip_dur_past10min\":[True, 10, \"kg/m²\"],\n",
    "            \"precip_past10min\":[True, 10, \"min\"],\n",
    "            \"precip_past1min\":[True, 10, \"min\"],\n",
    "            \"pressure\":[True, 10, \"hPa\"],\n",
    "            \"pressure_at_sea\":[False, 10, \"hPa\"],\n",
    "            \"temp_dew\":[True, 10, \"degC\"],\n",
    "            \"temp_dry\":[True, 10, \"degC\"],\n",
    "            \"temp_grass\":[False, 10, \"degC\"],\n",
    "            \"visib_mean_last10min\":[False, 10, \"m\"],\n",
    "            \"visibility\":[False, 10, \"m\"],\n",
    "            \"weather\":[False, 10, \"Code\"],\n",
    "            \"wind_dir\":[False, 10, \"degree\"],\n",
    "            \"wind_max\":[False, 10, \"m/s\"],\n",
    "            \"wind_min\":[False, 10, \"m/s\"],\n",
    "            \"wind_speed\":[False, 10, \"m/s\"],\n",
    "            \"precip_dur_past1h\":[False, 60, \"min\"],\n",
    "            \"precip_past1h\":[False, 60, \"kg/m²\"],\n",
    "            \"temp_max_past1h\":[False, 60, \"degC\"],\n",
    "            \"temp_mean_past1h\":[False,60, \"degC\"],\n",
    "            \"temp_min_past1h\":[False, 60, \"degC\"],\n",
    "            \"humidity_past1h\":[False, 60, \"%\"],\n",
    "            \"temp_grass_max_past1h\":[False,60,\"degC\"],\n",
    "            \"temp_grass_mean_past1h\":[False,60,\"degC\"],\n",
    "            \"temp_grass_min_past1h\":[False,60,\"degC\"],\n",
    "            \"wind_dir_past1h\":[False,60,\"degree\"],\n",
    "            \"wind_gust_always_past1h\":[False,60,\"m/s\"],\n",
    "            \"wind_max_per10min_past1h\":[False,60,\"m/s\"],\n",
    "            \"wind_min_past1h\":[False,60,\"m/s\"],\n",
    "            \"wind_speed_past1h\":[False,60,\"m/s\"],\n",
    "            }\n",
    "\n",
    "    # Dataclass for processed JSON Query.    \n",
    "    class metObsSample:\n",
    "        def __init__(self, sample) -> None:\n",
    "            properties = sample[\"properties\"]\n",
    "            try:\n",
    "                self.coord = sample[\"geometry\"][\"coordinates\"]\n",
    "            except:\n",
    "                self.coord = None\n",
    "            self.observedTime = datetime.strptime(properties[\"observed\"], \"%Y-%m-%dT%H:%M:%S%z\")\n",
    "            self.parameterId = properties[\"parameterId\"]\n",
    "            self.value = properties[\"value\"]\n",
    "            pass \n",
    "    \n",
    "    @property\n",
    "    def station(self):\n",
    "        if self._station / 10000 < 1:\n",
    "            return \"0\" + str(self._station)\n",
    "        else:\n",
    "            return str(self.station)\n",
    "    \n",
    "    @station.setter\n",
    "    def station(self, val:int):\n",
    "        self._station = val\n",
    "\n",
    "    @property\n",
    "    def query_date(self):\n",
    "        format_string = \"%Y-%m-%dT%H:%M:%SZ\"\n",
    "        starttime = datetime.strftime(self.starttime - timedelta(minutes=self.starttime.minute, seconds=self.starttime.second), format_string)\n",
    "        endtime = datetime.strftime(self.endtime - timedelta(minutes=self.endtime.minute, seconds=self.endtime.second), format_string)\n",
    "        return f\"{starttime}/{endtime}\"\n",
    "\n",
    "    @property\n",
    "    def parameters(self):\n",
    "        keys = list(self._parameter_id.keys())\n",
    "        params = list(key for key in keys if self._parameter_id[key][0] == True)\n",
    "        return params\n",
    "    @parameters.setter\n",
    "    def parameters(self, parameter): \n",
    "        self._parameter_id[parameter][0] = not self._parameter_id[parameter][0] \n",
    "        return\n",
    "\n",
    "    # Request a parameter from DMI API.\n",
    "    def _extract_parameter(self, parameter: str):\n",
    "        count = int((self.endtime - self.starttime).total_seconds() // (self._parameter_id[parameter][1]*60))\n",
    "        query = self._baselink + self._apikey + f\"&stationId={self.station}&parameterId={parameter}&datetime={self.query_date}&limit={str(count+500)}\"\n",
    "        r = requests.request(\"GET\", query)\n",
    "        x = [self.metObsSample(index) for index in json.loads(r.content)[\"features\"]]\n",
    "        return x\n",
    "    \n",
    "    #Extract All active paramters from DMI.\n",
    "    def extract_weather(self, sorttime = False):\n",
    "        output = {}\n",
    "        for param in self.parameters:\n",
    "            tmp = self._extract_parameter(param)\n",
    "            if len(tmp) == 0:\n",
    "                    self.parameters = param # Remove from parameter list\n",
    "                    continue\n",
    "            if sorttime:\n",
    "                for data in tmp:\n",
    "                    if data.observedTime not in output:\n",
    "                        output[data.observedTime] = {param:data.value}\n",
    "                    else:\n",
    "                        output[data.observedTime][param] = data.value\n",
    "            else:\n",
    "                output[param] = tmp\n",
    "        if sorttime: output =  {date:output[date] for date in sorted(output)}\n",
    "        return output\n",
    "    \n",
    "    # Format as CSV, and print to file \n",
    "    def output_csv(self, data, print_header=True, filename=\"./weather.csv\"):\n",
    "        def generate_line(line):\n",
    "            output = line[0]\n",
    "            for i in line[1:]:\n",
    "                output = output + \",\" + str(i)\n",
    "            return output\n",
    "        format_str = \"%Y-%m-%dT%H:%M:%SZ\"\n",
    "        params = self.parameters\n",
    "        header1 = generate_line([\"Time\"] + params)\n",
    "        header2 = generate_line([\"UTC\"] + list(self._parameter_id[x][2] for x in params))    \n",
    "        with open(filename, 'w') as f:\n",
    "            if print_header:\n",
    "                f.write(header1 + \"\\n\")\n",
    "                f.write(header2 + \"\\n\")\n",
    "            for item in data:\n",
    "                line = [datetime.strftime(item, format_str), *(0 for _ in range(len(params)))] \n",
    "                for i, param in enumerate(params):\n",
    "                    if param in data[item]:\n",
    "                        line[i+1] = data[item][param]\n",
    "                    else:\n",
    "                        line[i+1] = \"NaN\"\n",
    "                f.write(generate_line(line) + \"\\n\")\n",
    "        return\n",
    "    \n",
    "\n",
    "\n",
    "\n",
    "\n",
    "\n"
   ]
  },
  {
   "cell_type": "code",
   "execution_count": 4,
   "id": "a9da1dad",
   "metadata": {},
   "outputs": [],
   "source": [
    "metobs = metObs(datetime.now() - timedelta(days=365*2), datetime.now())\n"
   ]
  },
  {
   "cell_type": "code",
   "execution_count": 5,
   "id": "3313e312",
   "metadata": {},
   "outputs": [],
   "source": [
    "data = metobs.extract_weather()"
   ]
  },
  {
   "cell_type": "code",
   "execution_count": 6,
   "id": "c676caf9",
   "metadata": {},
   "outputs": [
    {
     "data": {
      "text/plain": [
       "dict_keys(['humidity', 'precip_dur_past10min', 'precip_past10min', 'precip_past1min', 'pressure', 'temp_dew', 'temp_dry'])"
      ]
     },
     "execution_count": 6,
     "metadata": {},
     "output_type": "execute_result"
    }
   ],
   "source": [
    "data.keys()"
   ]
  },
  {
   "cell_type": "code",
   "execution_count": 7,
   "id": "bad40948",
   "metadata": {},
   "outputs": [],
   "source": [
    "precip10 = data[\"precip_dur_past10min\"]"
   ]
  },
  {
   "cell_type": "code",
   "execution_count": 8,
   "id": "33ab00f5",
   "metadata": {},
   "outputs": [],
   "source": [
    "precip_val = np.array([i.value for i in precip10])"
   ]
  },
  {
   "cell_type": "code",
   "execution_count": 9,
   "id": "f66cb33c",
   "metadata": {},
   "outputs": [
    {
     "data": {
      "text/plain": [
       "[<matplotlib.lines.Line2D at 0x7efe34853750>]"
      ]
     },
     "execution_count": 9,
     "metadata": {},
     "output_type": "execute_result"
    },
    {
     "data": {
      "image/png": "[encoded data removed]",
      "text/plain": [
       "<Figure size 640x480 with 1 Axes>"
      ]
     },
     "metadata": {},
     "output_type": "display_data"
    }
   ],
   "source": [
    "plt.plot(np.argwhere(precip_val > 0))"
   ]
  },
  {
   "cell_type": "code",
   "execution_count": 46,
   "id": "5bb1c1b3",
   "metadata": {},
   "outputs": [
    {
     "data": {
      "text/plain": [
       "np.float64(2.1325138912274793)"
      ]
     },
     "execution_count": 46,
     "metadata": {},
     "output_type": "execute_result"
    }
   ],
   "source": [
    "np.mean(precip_val[precip_val > 0])"
   ]
  },
  {
   "cell_type": "code",
   "execution_count": 12,
   "id": "66957a89",
   "metadata": {},
   "outputs": [
    {
     "data": {
      "text/plain": [
       "Text(0.5, 1.0, 'No rain included')"
      ]
     },
     "execution_count": 12,
     "metadata": {},
     "output_type": "execute_result"
    },
    {
     "data": {
      "image/png": "[encoded data removed]",
      "text/plain": [
       "<Figure size 640x480 with 1 Axes>"
      ]
     },
     "metadata": {},
     "output_type": "display_data"
    },
    {
     "data": {
      "image/png": "[encoded data removed]",
      "text/plain": [
       "<Figure size 640x480 with 1 Axes>"
      ]
     },
     "metadata": {},
     "output_type": "display_data"
    }
   ],
   "source": [
    "vals = precip_val[precip_val > 0]\n",
    "plt.hist(vals, 9, weights=np.ones_like(vals)/len(vals))\n",
    "plt.xlabel(\"Duration\")\n",
    "plt.ylabel(\"Probability\")\n",
    "plt.title(\"Rain distribution when raining\")\n",
    "plt.figure()\n",
    "plt.xlabel(\"Duration\")\n",
    "plt.ylabel(\"Probability\")\n",
    "plt.hist(precip_val, 10, weights=np.ones_like(precip_val)/len(precip_val))\n",
    "plt.title(\"No rain included\")"
   ]
  },
  {
   "cell_type": "code",
   "execution_count": 63,
   "id": "50d08775",
   "metadata": {},
   "outputs": [
    {
     "name": "stdout",
     "output_type": "stream",
     "text": [
      "2025-05-06 09:00:00+00:00\n",
      "2025-05-06 08:50:00+00:00\n"
     ]
    }
   ],
   "source": [
    "print(precip10[0].observedTime)\n",
    "print(precip10[1].observedTime)\n"
   ]
  },
  {
   "cell_type": "code",
   "execution_count": 15,
   "id": "e323c2bd",
   "metadata": {},
   "outputs": [],
   "source": [
    "import pickle\n",
    "bin = pickle.dumps(data)"
   ]
  },
  {
   "cell_type": "code",
   "execution_count": 17,
   "id": "57a5a720",
   "metadata": {},
   "outputs": [],
   "source": [
    "with open(\"dmi_last_2_year.bin\", \"wb\") as f:\n",
    "    f.write(bin)"
   ]
  },
  {
   "cell_type": "code",
   "execution_count": 59,
   "id": "4ac4bec6",
   "metadata": {},
   "outputs": [],
   "source": [
    "precip_1m = data[\"precip_past1min\"]\n",
    "precip_1m_val = np.array([i.value for i in precip_1m])\n",
    "precip_1m_time = np.array([i.observedTime.timestamp() for i in precip_1m])\n",
    "# precip_1m_time = precip_1m_time - precip_1m_time[0]\n",
    "precip_10m = data[\"precip_past10min\"]\n",
    "precip_10m_val = np.array([i.value for i in precip_10m])\n",
    "precip_10m_time = np.array([i.observedTime.timestamp() for i in precip_10m])\n"
   ]
  },
  {
   "cell_type": "code",
   "execution_count": 63,
   "id": "5fc95217",
   "metadata": {},
   "outputs": [
    {
     "data": {
      "text/plain": [
       "<matplotlib.collections.PathCollection at 0x7f8e41ba2350>"
      ]
     },
     "execution_count": 63,
     "metadata": {},
     "output_type": "execute_result"
    }
   ],
   "source": [
    "%matplotlib tk\n",
    "plt.plot(precip_1m_val)\n",
    "plt.figure()\n",
    "plt.scatter(precip_1m_time, precip_1m_val)\n",
    "plt.scatter(precip_10m_time, precip_10m_val, color=\"tab:orange\")"
   ]
  }
 ],
 "metadata": {
  "kernelspec": {
   "display_name": "starlink",
   "language": "python",
   "name": "python3"
  },
  "language_info": {
   "codemirror_mode": {
    "name": "ipython",
    "version": 3
   },
   "file_extension": ".py",
   "mimetype": "text/x-python",
   "name": "python",
   "nbconvert_exporter": "python",
   "pygments_lexer": "ipython3",
   "version": "3.13.1"
  }
 },
 "nbformat": 4,
 "nbformat_minor": 5
}
