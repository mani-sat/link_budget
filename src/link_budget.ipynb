{
 "cells": [
  {
   "cell_type": "code",
   "execution_count": 18,
   "metadata": {},
   "outputs": [],
   "source": [
    "import numpy as np\n",
    "c = 3e8 # m/s\n",
    "k = 1.38e-23 # J/K\n",
    "d_mean = 384400e3 # [m] mean distance moon-earth\n",
    "\n",
    "def fspl(freq: int, d: float, dB: bool = True):\n",
    "    \"\"\"Calculates FSPL in either dB or linear\"\"\"\n",
    "    lin = ((4*np.pi*d*freq)/c)**2\n",
    "\n",
    "    if dB == True:\n",
    "        return 10*np.log10(lin)\n",
    "    return lin\n",
    "\n",
    "def shannon_cap(snr_db: float, bw: int):\n",
    "    \"\"\"Calculate the shannon rate for a given snr and bw\"\"\"\n",
    "\n",
    "    return bw*np.log2(1+10**(snr_db/10))"
   ]
  },
  {
   "cell_type": "markdown",
   "metadata": {},
   "source": [
    "# Máni\n",
    "For 35m dish at ESA DSA2 Cebreros  \n",
    "\n",
    "0.5m dish on SC (Approx 1.27deg HPBW) and 42.61 dBi gain at eff = 0.65"
   ]
  },
  {
   "cell_type": "code",
   "execution_count": 28,
   "metadata": {},
   "outputs": [
    {
     "data": {
      "text/plain": [
       "3.5383938415705276"
      ]
     },
     "execution_count": 28,
     "metadata": {},
     "output_type": "execute_result"
    }
   ],
   "source": [
    "#Constants\n",
    "d_r = 35 # [m] dish size\n",
    "fc = 32e9 # Hz\n",
    "bw = 100e6 # Hz\n",
    "gt_r = 55.8 # dB/K\n",
    "g_t = 42.6 # dBi\n",
    "p_t = 10 # dBW\n",
    "\n",
    "losses = 12.5 # dB (From Paradigma linkbudget)\n",
    "\n",
    "# budget\n",
    "_fspl = fspl(fc, d_mean)\n",
    "\n",
    "p_ant = p_t + g_t + gt_r - _fspl - losses # dBW/K \n",
    "\n",
    "snr_specral = 10*np.log10(10**(p_ant/10)/k)\n",
    "\n",
    "snr = snr_specral - 10*np.log10(bw)\n",
    "shannon_cap(snr, 1)\n",
    "\n",
    "\n"
   ]
  },
  {
   "cell_type": "markdown",
   "metadata": {},
   "source": [
    "## Introducing Brightness temp\n",
    "Lunar brightness temp 220-290K (Add source)\n",
    "\n",
    "We estimate the efficiency and gain of the ground station\n",
    "Typical eff range 0.5-0.8\n",
    "\n",
    "Dish gain eq:\n",
    "$$ g=\\epsilon \\frac{(\\pi D)^2}{\\lambda^2} [dBi] $$\n",
    "\n",
    "$$ T = \\frac{G}{G/T} [K]$$"
   ]
  },
  {
   "cell_type": "code",
   "execution_count": 39,
   "metadata": {},
   "outputs": [
    {
     "name": "stdout",
     "output_type": "stream",
     "text": [
      "G/T Cebreros: 55.800, w. added brightness temp: 52.655\n"
     ]
    }
   ],
   "source": [
    "tb_inc = 250 # Increase in brightness temperature\n",
    "est_eff = 0.65\n",
    "est_gain_lin = est_eff*((np.pi*d_r)**2)/(c/fc)**2\n",
    "\n",
    "t_sys = est_gain_lin/10**(gt_r/10)\n",
    "t_new = t_sys + tb_inc\n",
    "\n",
    "gt_r_new = 10*np.log10(est_gain_lin/t_new)\n",
    "print(f\"G/T Cebreros: {gt_r:.3f}, w. added brightness temp: {gt_r_new:.3f}\")"
   ]
  },
  {
   "cell_type": "markdown",
   "metadata": {},
   "source": [
    "# LRO\n",
    "18m dish (WS1)  \n",
    "0.75m dish on SC"
   ]
  },
  {
   "cell_type": "code",
   "execution_count": 27,
   "metadata": {},
   "outputs": [
    {
     "data": {
      "text/plain": [
       "3.5816274357233695"
      ]
     },
     "execution_count": 27,
     "metadata": {},
     "output_type": "execute_result"
    }
   ],
   "source": [
    "#Constants\n",
    "fc = 25.65e9 # Hz\n",
    "bw = [57e6, 114e6, 229e6] # Hz\n",
    "gt_r = 46.98 # dB/K\n",
    "g_t = 44.21 # dBi\n",
    "p_t = 16 # dBW\n",
    "\n",
    "losses = 12.5 # dB (From Paradigma linkbudget)\n",
    "\n",
    "# budget\n",
    "_fspl = fspl(fc, d_mean)\n",
    "\n",
    "p_ant = p_t + g_t + gt_r - _fspl - losses # dBW/K \n",
    "\n",
    "snr_specral = 10*np.log10(10**(p_ant/10)/k)\n",
    "\n",
    "snr = snr_specral - 10*np.log10(bw[1])\n",
    "shannon_cap(snr, 1)\n"
   ]
  }
 ],
 "metadata": {
  "kernelspec": {
   "display_name": "godot",
   "language": "python",
   "name": "python3"
  },
  "language_info": {
   "codemirror_mode": {
    "name": "ipython",
    "version": 3
   },
   "file_extension": ".py",
   "mimetype": "text/x-python",
   "name": "python",
   "nbconvert_exporter": "python",
   "pygments_lexer": "ipython3",
   "version": "3.10.16"
  }
 },
 "nbformat": 4,
 "nbformat_minor": 2
}
