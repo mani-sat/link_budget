{
 "cells": [
  {
   "cell_type": "markdown",
   "id": "76b86bf3",
   "metadata": {},
   "source": [
    "### Import of files"
   ]
  },
  {
   "cell_type": "code",
   "execution_count": 18,
   "id": "21f3da02",
   "metadata": {},
   "outputs": [],
   "source": [
    "import json\n",
    "import abc\n",
    "import matplotlib.pyplot as plt\n",
    "import numpy as np\n",
    "import requests\n",
    "from datetime import datetime, timedelta\n",
    "from pytz import UTC\n",
    "import pickle"
   ]
  },
  {
   "cell_type": "code",
   "execution_count": 19,
   "id": "7347b47b",
   "metadata": {},
   "outputs": [],
   "source": [
    "apikeys = {'metObs': \"\"}"
   ]
  },
  {
   "cell_type": "code",
   "execution_count": 20,
   "id": "35a7eb09",
   "metadata": {},
   "outputs": [],
   "source": [
    "class weather_int(abc.ABC):\n",
    "    @abc.abstractmethod\n",
    "    def __init__(self, starttime: datetime, endtime: datetime) -> None:\n",
    "        self._starttime = starttime\n",
    "        self._endtime = endtime\n",
    "\n",
    "    @property\n",
    "    def endtime(self):\n",
    "        return self._endtime.astimezone(UTC)\n",
    "    \n",
    "    @endtime.setter\n",
    "    def endtime(self, date: datetime):\n",
    "        self._endtime = date\n",
    "\n",
    "    @property\n",
    "    def starttime(self):\n",
    "        return self._starttime.astimezone(UTC)\n",
    "    \n",
    "    @starttime.setter\n",
    "    def starttime(self, date: datetime):\n",
    "        self._starttime = date\n",
    "\n",
    "    @abc.abstractmethod\n",
    "    def output_csv(self, data, print_header = True, filename = \"./weather.csv\" ):\n",
    "        pass\n",
    "\n",
    "    @abc.abstractmethod\n",
    "    def extract_weather(self):\n",
    "        pass\n",
    "\n",
    "\n",
    "\n",
    "\n",
    "class metObs(weather_int):\n",
    "    _apikey = \"api-key=\" + apikeys[\"metObs\"]\n",
    "    _baselink = \"https://dmigw.govcloud.dk/v2/metObs/collections/observation/items/?\"\n",
    "    def __init__(self, starttime: datetime, endtime: datetime, station = 6030) -> None:\n",
    "        super().__init__(starttime, endtime)\n",
    "        self._station = station  # Default Aalborg\n",
    "        # Set parameter config\n",
    "        self._parameter_id = {\n",
    "            \"humidity\":[True, 10, \"%\"],\n",
    "            \"precip_dur_past10min\":[True, 10, \"kg/m²\"],\n",
    "            \"precip_past10min\":[True, 10, \"min\"],\n",
    "            \"precip_past1min\":[True, 10, \"min\"],\n",
    "            \"pressure\":[True, 10, \"hPa\"],\n",
    "            \"pressure_at_sea\":[False, 10, \"hPa\"],\n",
    "            \"temp_dew\":[True, 10, \"degC\"],\n",
    "            \"temp_dry\":[True, 10, \"degC\"],\n",
    "            \"temp_grass\":[False, 10, \"degC\"],\n",
    "            \"visib_mean_last10min\":[False, 10, \"m\"],\n",
    "            \"visibility\":[False, 10, \"m\"],\n",
    "            \"weather\":[False, 10, \"Code\"],\n",
    "            \"wind_dir\":[False, 10, \"degree\"],\n",
    "            \"wind_max\":[False, 10, \"m/s\"],\n",
    "            \"wind_min\":[False, 10, \"m/s\"],\n",
    "            \"wind_speed\":[False, 10, \"m/s\"],\n",
    "            \"precip_dur_past1h\":[False, 60, \"min\"],\n",
    "            \"precip_past1h\":[False, 60, \"kg/m²\"],\n",
    "            \"temp_max_past1h\":[False, 60, \"degC\"],\n",
    "            \"temp_mean_past1h\":[False,60, \"degC\"],\n",
    "            \"temp_min_past1h\":[False, 60, \"degC\"],\n",
    "            \"humidity_past1h\":[False, 60, \"%\"],\n",
    "            \"temp_grass_max_past1h\":[False,60,\"degC\"],\n",
    "            \"temp_grass_mean_past1h\":[False,60,\"degC\"],\n",
    "            \"temp_grass_min_past1h\":[False,60,\"degC\"],\n",
    "            \"wind_dir_past1h\":[False,60,\"degree\"],\n",
    "            \"wind_gust_always_past1h\":[False,60,\"m/s\"],\n",
    "            \"wind_max_per10min_past1h\":[False,60,\"m/s\"],\n",
    "            \"wind_min_past1h\":[False,60,\"m/s\"],\n",
    "            \"wind_speed_past1h\":[False,60,\"m/s\"],\n",
    "            }\n",
    "\n",
    "    # Dataclass for processed JSON Query.    \n",
    "    class metObsSample:\n",
    "        def __init__(self, sample) -> None:\n",
    "            properties = sample[\"properties\"]\n",
    "            try:\n",
    "                self.coord = sample[\"geometry\"][\"coordinates\"]\n",
    "            except:\n",
    "                self.coord = None\n",
    "            self.observedTime = datetime.strptime(properties[\"observed\"], \"%Y-%m-%dT%H:%M:%S%z\")\n",
    "            self.parameterId = properties[\"parameterId\"]\n",
    "            self.value = properties[\"value\"]\n",
    "            pass \n",
    "    \n",
    "    @property\n",
    "    def station(self):\n",
    "        if self._station / 10000 < 1:\n",
    "            return \"0\" + str(self._station)\n",
    "        else:\n",
    "            return str(self.station)\n",
    "    \n",
    "    @station.setter\n",
    "    def station(self, val:int):\n",
    "        self._station = val\n",
    "\n",
    "    @property\n",
    "    def query_date(self):\n",
    "        format_string = \"%Y-%m-%dT%H:%M:%SZ\"\n",
    "        starttime = datetime.strftime(self.starttime - timedelta(minutes=self.starttime.minute, seconds=self.starttime.second), format_string)\n",
    "        endtime = datetime.strftime(self.endtime - timedelta(minutes=self.endtime.minute, seconds=self.endtime.second), format_string)\n",
    "        return f\"{starttime}/{endtime}\"\n",
    "\n",
    "    @property\n",
    "    def parameters(self):\n",
    "        keys = list(self._parameter_id.keys())\n",
    "        params = list(key for key in keys if self._parameter_id[key][0] == True)\n",
    "        return params\n",
    "    @parameters.setter\n",
    "    def parameters(self, parameter): \n",
    "        self._parameter_id[parameter][0] = not self._parameter_id[parameter][0] \n",
    "        return\n",
    "\n",
    "    # Request a parameter from DMI API.\n",
    "    def _extract_parameter(self, parameter: str):\n",
    "        count = int((self.endtime - self.starttime).total_seconds() // (self._parameter_id[parameter][1]*60))\n",
    "        query = self._baselink + self._apikey + f\"&stationId={self.station}&parameterId={parameter}&datetime={self.query_date}&limit={str(count+500)}\"\n",
    "        r = requests.request(\"GET\", query)\n",
    "        x = [self.metObsSample(index) for index in json.loads(r.content)[\"features\"]]\n",
    "        return x\n",
    "    \n",
    "    #Extract All active paramters from DMI.\n",
    "    def extract_weather(self, sorttime = False):\n",
    "        output = {}\n",
    "        for param in self.parameters:\n",
    "            tmp = self._extract_parameter(param)\n",
    "            if len(tmp) == 0:\n",
    "                    self.parameters = param # Remove from parameter list\n",
    "                    continue\n",
    "            if sorttime:\n",
    "                for data in tmp:\n",
    "                    if data.observedTime not in output:\n",
    "                        output[data.observedTime] = {param:data.value}\n",
    "                    else:\n",
    "                        output[data.observedTime][param] = data.value\n",
    "            else:\n",
    "                output[param] = tmp\n",
    "        if sorttime: output =  {date:output[date] for date in sorted(output)}\n",
    "        return output\n",
    "    \n",
    "    # Format as CSV, and print to file \n",
    "    def output_csv(self, data, print_header=True, filename=\"./weather.csv\"):\n",
    "        def generate_line(line):\n",
    "            output = line[0]\n",
    "            for i in line[1:]:\n",
    "                output = output + \",\" + str(i)\n",
    "            return output\n",
    "        format_str = \"%Y-%m-%dT%H:%M:%SZ\"\n",
    "        params = self.parameters\n",
    "        header1 = generate_line([\"Time\"] + params)\n",
    "        header2 = generate_line([\"UTC\"] + list(self._parameter_id[x][2] for x in params))    \n",
    "        with open(filename, 'w') as f:\n",
    "            if print_header:\n",
    "                f.write(header1 + \"\\n\")\n",
    "                f.write(header2 + \"\\n\")\n",
    "            for item in data:\n",
    "                line = [datetime.strftime(item, format_str), *(0 for _ in range(len(params)))] \n",
    "                for i, param in enumerate(params):\n",
    "                    if param in data[item]:\n",
    "                        line[i+1] = data[item][param]\n",
    "                    else:\n",
    "                        line[i+1] = \"NaN\"\n",
    "                f.write(generate_line(line) + \"\\n\")\n",
    "        return\n",
    "    \n",
    "\n",
    "\n",
    "\n",
    "\n",
    "\n"
   ]
  },
  {
   "cell_type": "markdown",
   "id": "effefbd8",
   "metadata": {},
   "source": [
    "### Open data files, and concatenate to a single arrays"
   ]
  },
  {
   "cell_type": "code",
   "execution_count": 21,
   "id": "6bdd4e49",
   "metadata": {},
   "outputs": [
    {
     "name": "stdout",
     "output_type": "stream",
     "text": [
      "t: 2016-01-01 00:00:00+00:00, 2014-01-01 00:10:00+00:00\n",
      "10m: 1388535000.0, 1451606400.0\n",
      "1m: 1423023720.0, 1451571000.0\n",
      "t: 2018-01-01 00:00:00+00:00, 2016-01-01 00:10:00+00:00\n",
      "10m: 1451607000.0, 1514764800.0\n",
      "1m: 1451641320.0, 1514733600.0\n",
      "t: 2020-01-01 00:00:00+00:00, 2018-01-01 00:10:00+00:00\n",
      "10m: 1514765400.0, 1577836800.0\n",
      "1m: 1514780520.0, 1577727000.0\n",
      "t: 2022-01-01 00:00:00+00:00, 2020-01-01 00:10:00+00:00\n",
      "10m: 1577837400.0, 1640995200.0\n",
      "1m: 1577867520.0, 1640946000.0\n",
      "t: 2024-01-01 00:00:00+00:00, 2022-01-01 00:10:00+00:00\n",
      "10m: 1640995800.0, 1704067200.0\n",
      "1m: 1641045720.0, 1704066000.0\n",
      "t: 2025-01-01 00:00:00+00:00, 2024-01-01 00:10:00+00:00\n",
      "10m: 1704067800.0, 1735689600.0\n",
      "1m: 1704067320.0, 1735682400.0\n"
     ]
    }
   ],
   "source": [
    "years = [2014, 2016, 2018, 2020, 2022, 2024, 2025]\n",
    "\n",
    "precip_1m_val = []\n",
    "precip_1m_time = []\n",
    "precip_10m_val = []\n",
    "precip_10m_time = []\n",
    "for i in range(1,len(years)):\n",
    "    with open(f\"dmi_{years[i-1]}_{years[i]}.bin\", 'rb') as f:\n",
    "        data = pickle.loads(f.read())\n",
    "    f.close()\n",
    "    precip_1m_tmp = data[\"precip_past1min\"][:-1]\n",
    "    precip_1m_val_tmp = np.flip(np.array([i.value for i in precip_1m_tmp]))\n",
    "    precip_1m_time_tmp = np.flip(np.array([i.observedTime.timestamp() for i in precip_1m_tmp]))\n",
    "    # precip_1m_time = precip_1m_time - precip_1m_time[0]\n",
    "    precip_10m_tmp = data[\"precip_past10min\"][:-1]\n",
    "    precip_10m_val_tmp = np.flip(np.array([i.value for i in precip_10m_tmp]))\n",
    "    precip_10m_time_tmp = np.flip(np.array([i.observedTime.timestamp() for i in precip_10m_tmp]))\n",
    "    print(f\"t: {precip_10m_tmp[0].observedTime}, {precip_10m_tmp[-1].observedTime}\")\n",
    "    print(f\"10m: {precip_10m_time_tmp[0]}, {precip_10m_time_tmp[-1]}\")\n",
    "    print(f\"1m: {precip_1m_time_tmp[0]}, {precip_1m_time_tmp[-1]}\")\n",
    "    precip_1m_time.extend(precip_1m_time_tmp)\n",
    "    precip_1m_val.extend(precip_1m_val_tmp)\n",
    "    precip_10m_time.extend(precip_10m_time_tmp)\n",
    "    precip_10m_val.extend(precip_10m_val_tmp)\n"
   ]
  },
  {
   "cell_type": "markdown",
   "id": "323f52ee",
   "metadata": {},
   "source": [
    "### Reconstruct the precip_1m_time\n",
    "This is done by appending 0s for any minute, where data does not exist in 1m, as DMI does not push 1m, if it has not rained for 10 min."
   ]
  },
  {
   "cell_type": "code",
   "execution_count": null,
   "id": "bc07483f",
   "metadata": {},
   "outputs": [],
   "source": [
    "ran = np.arange(precip_10m_time[0], precip_10m_time[-1], 60)\n",
    "val = []\n",
    "\n",
    "idx = 0\n",
    "for i, t in enumerate(ran):\n",
    "    if idx < len(precip_1m_time) and (precip_1m_time[idx] == t):\n",
    "        val.append(precip_1m_val[idx])\n",
    "        idx += 1\n",
    "    else:\n",
    "        val.append(0.0)\n",
    "\n",
    "val = np.array(val)"
   ]
  },
  {
   "cell_type": "markdown",
   "id": "5cb8b992",
   "metadata": {},
   "source": [
    "### Create running mean from convolve\n",
    "Using a window size of 6"
   ]
  },
  {
   "cell_type": "code",
   "execution_count": 44,
   "id": "39e9d733",
   "metadata": {},
   "outputs": [
    {
     "name": "stdout",
     "output_type": "stream",
     "text": [
      "[0.   0.02 0.03 0.05 0.07 0.08 0.1  0.12 0.13 0.15 0.17 0.18 0.2  0.22\n",
      " 0.23 0.25 0.27 0.28 0.3  0.32 0.33 0.35 0.37 0.38 0.4  0.42 0.43 0.45\n",
      " 0.47 0.48 0.5  0.52 0.53 0.55 0.57 0.58 0.6  0.62 0.63 0.65 0.67 0.68\n",
      " 0.7  0.72 0.73 0.75 0.77 0.78 0.8  0.82 0.83 0.85 0.87 0.9  0.92 0.93\n",
      " 0.98 1.   1.02 1.03 1.05 1.07 1.08]\n",
      "63\n"
     ]
    }
   ],
   "source": [
    "w = 6\n",
    "rm_data = np.convolve(val,np.ones(w)/w, mode='valid')\n",
    "rm_data = np.round(rm_data, 2)\n",
    "print(np.unique(rm_data))\n",
    "print(len(np.unique(rm_data)))"
   ]
  },
  {
   "cell_type": "markdown",
   "id": "d935e070",
   "metadata": {},
   "source": [
    "### Create Markov model from running mean"
   ]
  },
  {
   "cell_type": "code",
   "execution_count": null,
   "id": "ffa132fa",
   "metadata": {},
   "outputs": [
    {
     "name": "stdout",
     "output_type": "stream",
     "text": [
      "[0.   0.02 0.03 0.05 0.07 0.08 0.1  0.12 0.13 0.15 0.17 0.18 0.2  0.22\n",
      " 0.23 0.25 0.27 0.28 0.3  0.32 0.33 0.35 0.37 0.38 0.4  0.42 0.43 0.45\n",
      " 0.47 0.48 0.5  0.52 0.53 0.55 0.57 0.58 0.6  0.62 0.63 0.65 0.67 0.68\n",
      " 0.7  0.72 0.73 0.75 0.77 0.78 0.8  0.82 0.83 0.85 0.87 0.9  0.92 0.93\n",
      " 0.98 1.   1.02 1.03 1.05 1.07 1.08]\n",
      "[ 0  1  2  3  4  5  6  7  8  9 10 11 12 13 14 15 16 17 18 19 20 21 22 23\n",
      " 24 25 26 27 28 29 30 31 32 33 34 35 36 37 38 39 40 41 42 43 44 45 46 47\n",
      " 48 49 50 51 52 53 54 55 56 57 58 59 60 61 62]\n"
     ]
    },
    {
     "name": "stderr",
     "output_type": "stream",
     "text": [
      "100%|██████████| 5785904/5785904 [02:34<00:00, 37482.86it/s]\n"
     ]
    }
   ],
   "source": [
    "from tqdm import tqdm\n",
    "def get_state(state_values, curr_value):\n",
    "    return np.where(np.isclose(state_values, curr_value))[0][0]\n",
    "\n",
    "states_values = np.unique(rm_data)\n",
    "print(states_values)\n",
    "s_range = np.arange(len(states_values))\n",
    "print(s_range)\n",
    "\n",
    "state_counter = np.zeros((len(states_values),len(states_values)),dtype=np.float32)\n",
    "\n",
    "prev_state = get_state(states_values, rm_data[0])\n",
    "for i in tqdm(range(1, len(rm_data))):\n",
    "    gcs = get_state(states_values, rm_data[i])\n",
    "    state_counter[prev_state, gcs] += 1\n",
    "    prev_state = gcs\n",
    "\n",
    "P = state_counter"
   ]
  },
  {
   "cell_type": "markdown",
   "id": "1a8d8060",
   "metadata": {},
   "source": [
    "### Normalize Markov Model"
   ]
  },
  {
   "cell_type": "code",
   "execution_count": 46,
   "id": "9a3e76cf",
   "metadata": {},
   "outputs": [
    {
     "name": "stdout",
     "output_type": "stream",
     "text": [
      "[[9.9636424e-01 3.5178536e-03 8.8729241e-05 ... 0.0000000e+00\n",
      "  0.0000000e+00 0.0000000e+00]\n",
      " [1.3371706e-01 7.8469175e-01 7.9621024e-02 ... 0.0000000e+00\n",
      "  0.0000000e+00 0.0000000e+00]\n",
      " [5.6593097e-03 2.8534710e-01 5.6505847e-01 ... 0.0000000e+00\n",
      "  0.0000000e+00 0.0000000e+00]\n",
      " ...\n",
      " [0.0000000e+00 0.0000000e+00 0.0000000e+00 ... 0.0000000e+00\n",
      "  0.0000000e+00 1.0000000e+00]\n",
      " [0.0000000e+00 0.0000000e+00 0.0000000e+00 ... 0.0000000e+00\n",
      "  0.0000000e+00 0.0000000e+00]\n",
      " [0.0000000e+00 0.0000000e+00 0.0000000e+00 ... 0.0000000e+00\n",
      "  1.0000000e+00 0.0000000e+00]]\n"
     ]
    }
   ],
   "source": [
    "P = state_counter\n",
    "for i in range(len(states_values)):\n",
    "    state_sum = np.sum(P[i,:])\n",
    "    if state_sum > 0:\n",
    "        P[i,:] = P[i,:] / state_sum\n",
    "print(P)"
   ]
  },
  {
   "cell_type": "markdown",
   "id": "3961f2d5",
   "metadata": {},
   "source": [
    "### Save Markov Model"
   ]
  },
  {
   "cell_type": "code",
   "execution_count": null,
   "id": "2fe8e087",
   "metadata": {},
   "outputs": [],
   "source": [
    "np.save('aau_ma_model',P)\n",
    "np.save('aau_ma_states',states_values)"
   ]
  },
  {
   "cell_type": "markdown",
   "id": "47cb4ac8",
   "metadata": {},
   "source": [
    "### Plot heatmap"
   ]
  },
  {
   "cell_type": "code",
   "execution_count": 48,
   "id": "8992f219",
   "metadata": {},
   "outputs": [],
   "source": [
    "import seaborn as sns\n",
    "import matplotlib.pyplot as plt\n",
    "\n",
    "plt.figure(figsize=(15, 15))\n",
    "sns.heatmap(state_counter, \n",
    "            annot=True, \n",
    "            fmt=\".1f\", \n",
    "            cmap=\"viridis\", \n",
    "            xticklabels=states_values,\n",
    "            yticklabels=states_values,)\n",
    "plt.xlabel(\"Next State\")\n",
    "plt.ylabel(\"Current State\")\n",
    "plt.title(\"Markov Transition Matrix Heatmap\")\n",
    "plt.tight_layout()\n",
    "plt.show()"
   ]
  },
  {
   "cell_type": "markdown",
   "id": "d18668b6",
   "metadata": {},
   "source": [
    "### Example of creating rain from the markov model"
   ]
  },
  {
   "cell_type": "code",
   "execution_count": null,
   "id": "de7b4486",
   "metadata": {},
   "outputs": [
    {
     "name": "stderr",
     "output_type": "stream",
     "text": [
      "  0%|          | 0/5785909 [00:00<?, ?it/s]/tmp/ipykernel_917637/975492797.py:8: DeprecationWarning: Conversion of an array with ndim > 0 to a scalar is deprecated, and will error in future. Ensure you extract a single element from your array before performing this operation. (Deprecated NumPy 1.25.)\n",
      "  fake_rain[i] = states_values[curr_state]\n",
      " 79%|███████▉  | 4581167/5785909 [02:11<00:36, 33274.04it/s]"
     ]
    }
   ],
   "source": [
    "N = len(val)\n",
    "states = np.zeros(N, dtype=np.int8)\n",
    "fake_rain = np.zeros(N, dtype=np.float32)\n",
    "for i in tqdm(range(1, N)):\n",
    "    prev_state = states[i-1]\n",
    "    curr_state = np.random.choice(s_range, 1, True, P[prev_state,:])\n",
    "    states[i] = curr_state[0]\n",
    "    fake_rain[i] = states_values[curr_state]"
   ]
  }
 ],
 "metadata": {
  "kernelspec": {
   "display_name": "godot",
   "language": "python",
   "name": "python3"
  },
  "language_info": {
   "codemirror_mode": {
    "name": "ipython",
    "version": 3
   },
   "file_extension": ".py",
   "mimetype": "text/x-python",
   "name": "python",
   "nbconvert_exporter": "python",
   "pygments_lexer": "ipython3",
   "version": "3.12.9"
  }
 },
 "nbformat": 4,
 "nbformat_minor": 5
}
